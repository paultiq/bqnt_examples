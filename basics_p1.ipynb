{
 "cells": [
  {
   "cell_type": "markdown",
   "metadata": {},
   "source": [
    "#### Install Packages\n",
    "You can install packages interactively (in the notebook), at the command line (using a shell/terminal), or through a Custom Environment (preferred).\n",
    "\n",
    "To install packages interactively, you can use:\n",
    "- `%package install <package_name>`: Bloomberg's recommended method, which uses the Conda repositories.\n",
    "- `%pip install <package_name>`: I use `pip` for most installation, using PyPI repository. \n",
    "\n",
    "pip is faster and has a more up to date catalog for most pure-Python packages, but Conda includes non-Python resources. "
   ]
  },
  {
   "cell_type": "code",
   "execution_count": null,
   "metadata": {},
   "outputs": [],
   "source": [
    "# This only needs to be run once per session. \n",
    "# This takes a minute or so, so comment it out (add a #) after running it once. \n",
    "\n",
    "import sys\n",
    "if \"xgboost\" not in sys.modules:\n",
    "    %package install plotly scikit-learn xgboost"
   ]
  },
  {
   "cell_type": "code",
   "execution_count": null,
   "metadata": {},
   "outputs": [],
   "source": [
    "# Import packages used in this Notebook\n",
    "import datetime \n",
    "import bql\n",
    "import pandas as pd\n",
    "\n",
    "import plotly.express as px\n",
    "\n",
    "from sklearn.linear_model import LinearRegression\n",
    "from sklearn.preprocessing import PolynomialFeatures\n",
    "\n",
    "import xgboost as xgb\n"
   ]
  },
  {
   "cell_type": "code",
   "execution_count": null,
   "metadata": {},
   "outputs": [],
   "source": [
    "# Some default settings for charts, mostly for blogging purposes\n",
    "# Adjust for your needs\n",
    "import plotly.io as pio\n",
    "\n",
    "pio.renderers.default='plotly_mimetype+notebook'\n",
    "pio.templates[pio.templates.default].layout.height = 250 \n",
    "pio.templates[pio.templates.default].layout.margin = dict(l=50, r=50, t=50, b=50) "
   ]
  },
  {
   "cell_type": "code",
   "execution_count": null,
   "metadata": {},
   "outputs": [],
   "source": [
    "daterange = 29  # days\n",
    "security = 'IBM US Equity'\n",
    "\n",
    "basics_query = f\"\"\"get(\n",
    "      px_last\n",
    "    ) for(\n",
    "      ['{security}']\n",
    "    ) with(\n",
    "      dates=range(-{daterange}d, 0d),\n",
    "      fill=prev,\n",
    "      currency=USD\n",
    "    )\"\"\""
   ]
  },
  {
   "cell_type": "markdown",
   "metadata": {},
   "source": [
    "#### Run a BQL Query\n",
    "\n",
    "This query retrieves 30 days of px_last for a single security. BQL dates are inclusive, so (-29d,0d) includes today / current value. \n",
    "\n",
    "`fill=prev` fills in empty values with the previous value. This fills in days where the market wasn't open and avoids gaps in results. When doing analysis, consider carefully how filling will influence your values: filling makes change rates seem more correlated, for instance. \n",
    "\n",
    "date_ordinal is used, since most models need ordinal (numeric) X values. "
   ]
  },
  {
   "cell_type": "code",
   "execution_count": null,
   "metadata": {},
   "outputs": [],
   "source": [
    "bql_svc = bql.Service()\n",
    "\n",
    "response = bql_svc.execute(basics_query)\n",
    "base_df = bql.combined_df(response)\n",
    "\n",
    "# Reset the index: bql's combined_df returns ID as a sole index.\n",
    "base_df = base_df.reset_index() \n",
    "\n",
    "base_df['date_ordinal'] = base_df['DATE'].apply(lambda x: x.toordinal())\n"
   ]
  },
  {
   "cell_type": "markdown",
   "metadata": {},
   "source": [
    "#### Plot the result"
   ]
  },
  {
   "cell_type": "code",
   "execution_count": null,
   "metadata": {},
   "outputs": [],
   "source": [
    "px.line(base_df, x=\"DATE\", y=\"px_last\")"
   ]
  },
  {
   "cell_type": "markdown",
   "metadata": {},
   "source": [
    "#### Draw a Simple Moving Average"
   ]
  },
  {
   "cell_type": "code",
   "execution_count": null,
   "metadata": {},
   "outputs": [],
   "source": [
    "# Make a copy of the dataframe\n",
    "df_withavgs = base_df.copy()\n",
    "\n",
    "df_withavgs[\"sma_3day\"] = df_withavgs[\"px_last\"].rolling(3).mean()\n",
    "px.line(df_withavgs, x=\"DATE\", y=[\"px_last\", \"sma_3day\"])"
   ]
  },
  {
   "cell_type": "markdown",
   "metadata": {},
   "source": [
    "#### LinearRegression - Fit to Entire Data"
   ]
  },
  {
   "cell_type": "code",
   "execution_count": null,
   "metadata": {},
   "outputs": [],
   "source": [
    "# This example uses scikit-learn (also called: sklearn) to perform a simple linear\n",
    "# regression. This pattern of fitting a model, and then predicting, unlocks a lot of other tools\n",
    "# You'll see xgboost uses the same flow. \n",
    "# This model uses the entire date range, with no train/test split. \n",
    "\n",
    "linear_model_full = LinearRegression()\n",
    "X = df_withavgs[['date_ordinal']]\n",
    "y = df_withavgs['px_last']\n",
    "\n",
    "linear_model_full.fit(X, y)\n",
    "df_withavgs[\"px_last_pred_fulltrain\"] = linear_model_full.predict(X)\n",
    "\n",
    "df_withavgs[\"sma_3day\"] = df_withavgs[\"px_last\"].rolling(3).mean()\n",
    "px.line(df_withavgs, x=\"DATE\", y=[\"px_last\", \"sma_3day\", \"px_last_pred_fulltrain\"])"
   ]
  },
  {
   "cell_type": "markdown",
   "metadata": {},
   "source": [
    "# With a Polynomial regression"
   ]
  },
  {
   "cell_type": "code",
   "execution_count": null,
   "metadata": {},
   "outputs": [],
   "source": [
    "# This example uses scikit-learn (also called: sklearn) to perform a simple linear\n",
    "# regression. This pattern of fitting a model, and then predicting, unlocks a lot of other tools\n",
    "# You'll see xgboost uses the same flow. \n",
    "# This model uses the entire date range, with no train/test split. \n",
    "\n",
    "degree = 2 # quadratic\n",
    "df_poly = df_withavgs.copy()\n",
    "\n",
    "X = df_poly[['date_ordinal']]\n",
    "y = df_poly['px_last']\n",
    "\n",
    "poly = PolynomialFeatures(degree=degree)\n",
    "X_poly = poly.fit_transform(X)\n",
    "\n",
    "linear_model_poly = LinearRegression()\n",
    "linear_model_poly.fit(X_poly, y)\n",
    "df_poly[\"px_last_pred_poly\"] = linear_model_poly.predict(X_poly)\n",
    "\n",
    "px.line(df_poly, x=\"DATE\", y=[\"px_last\", \"px_last_pred_fulltrain\", \"px_last_pred_poly\"])\n"
   ]
  },
  {
   "cell_type": "markdown",
   "metadata": {},
   "source": [
    "#### LinearRegression w/ Train - Test Split\n",
    "Last example wasn't very interesting. We fit the model to the entirety of the data, telling us little about whether the model is useful or not. \n",
    "Instead, let's split the data into a \"Train/Test\" split. Being time series, we'll train on the first 3 weeks (21 days) and forecast (test) the remaining 9 days.\n"
   ]
  },
  {
   "cell_type": "code",
   "execution_count": null,
   "metadata": {},
   "outputs": [],
   "source": [
    "train_df = base_df.iloc[:21]\n",
    "test_df = base_df[[\"DATE\", \"date_ordinal\", \"px_last\"]].iloc[21:]\n",
    "\n",
    "linear_model_split = LinearRegression()\n",
    "X_train = train_df[[\"date_ordinal\"]]\n",
    "y_train = train_df[\"px_last\"]\n",
    "\n",
    "linear_model_split.fit(X_train, y_train)\n",
    "\n",
    "X_test = test_df[[\"date_ordinal\"]]\n",
    "test_df[\"px_last_pred_split\"] = linear_model_split.predict(X_test)\n",
    "\n",
    "df_withpreds = pd.concat([train_df, test_df]).reset_index()\n",
    "px.line(df_withpreds, x=\"DATE\", y=[\"px_last\", \"px_last_pred_split\"])\n"
   ]
  },
  {
   "cell_type": "markdown",
   "metadata": {},
   "source": []
  },
  {
   "cell_type": "markdown",
   "metadata": {},
   "source": [
    "#### Predicting into the Future\n",
    "\n",
    "But, what about the future?\n",
    "Using the full 30 days, let's predict 14 days into the future\n"
   ]
  },
  {
   "cell_type": "code",
   "execution_count": null,
   "metadata": {},
   "outputs": [],
   "source": [
    "future_range = 14 # days\n",
    "df_future = pd.DataFrame({\"date_ordinal\":range(base_df['date_ordinal'].max()+1, base_df['date_ordinal'].max()+future_range)}, index=range(base_df.index.max()+1, base_df.index.max()+future_range))\n",
    "\n",
    "X_future_pred = linear_model_full.predict(df_future)\n",
    "\n",
    "df_future[\"px_last_pred_future\"] = X_future_pred\n",
    "df_future[\"DATE\"] = pd.to_datetime(df_future['date_ordinal'].apply(lambda x: datetime.date.fromordinal(x)))\n",
    "\n",
    "df_with_future = pd.concat([df_withavgs, df_future])\n",
    "\n",
    "px.line(df_with_future, x=\"DATE\", y=[\"px_last\", \"px_last_pred_fulltrain\", \"px_last_pred_future\"])"
   ]
  },
  {
   "cell_type": "markdown",
   "metadata": {},
   "source": [
    "#### Using XGBoost\n",
    "\n",
    "The point of this example is just that using xgboost is easy: if you can do a linear regression in sklearn, you can try xgboost. \n",
    "\n",
    "If you can follow / understand the LinearRegression example, then you can do a lot of other cool things without needing to learn much more Python code. \n",
    "\n",
    "[Link: Why XGBoost is So Popular among Data Scientists](https://www.nocode.ai/why-xgboost-is-so-popular-among-data-scientists/)"
   ]
  },
  {
   "cell_type": "code",
   "execution_count": null,
   "metadata": {},
   "outputs": [],
   "source": [
    "xg_df = base_df.copy()\n",
    "\n",
    "xg_df['month'] = xg_df['DATE'].dt.month\n",
    "xg_df['day_of_week'] = xg_df['DATE'].dt.dayofweek\n",
    "\n",
    "train_df = xg_df.iloc[:-21]\n",
    "test_df = xg_df.iloc[-21:]\n",
    "\n",
    "X_train = train_df[['month', 'day_of_week']]\n",
    "y_train = train_df[\"px_last\"]\n",
    "\n",
    "xmodel = xgb.XGBRegressor(n_estimators=100, learning_rate=0.1, objective='reg:squarederror')\n",
    "xmodel.fit(X_train, y_train)\n",
    "\n",
    "xg_df.loc[test_df.index, 'xgpredicted_px_last'] = xmodel.predict(test_df[['month', 'day_of_week']])\n",
    "\n",
    "px.line(xg_df, x=\"DATE\", y=[\"px_last\", \"xgpredicted_px_last\"])\n"
   ]
  }
 ],
 "metadata": {
  "kernelspec": {
   "display_name": "Python 3 (ipykernel)",
   "language": "python",
   "name": "python3"
  },
  "language_info": {
   "codemirror_mode": {
    "name": "ipython",
    "version": 3
   },
   "file_extension": ".py",
   "mimetype": "text/x-python",
   "name": "python",
   "nbconvert_exporter": "python",
   "pygments_lexer": "ipython3",
   "version": "3.11.8"
  }
 },
 "nbformat": 4,
 "nbformat_minor": 4
}
