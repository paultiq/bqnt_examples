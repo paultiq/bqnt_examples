{
 "cells": [
  {
   "cell_type": "code",
   "execution_count": 1,
   "metadata": {},
   "outputs": [],
   "source": [
    "import nbappinator as nbapp\n",
    "import jinja2\n",
    "import logging\n",
    "import bql\n",
    "import pandas as pd\n",
    "import plotly.express as px"
   ]
  },
  {
   "cell_type": "markdown",
   "metadata": {},
   "source": [
    "#### Define globals"
   ]
  },
  {
   "cell_type": "code",
   "execution_count": 2,
   "metadata": {},
   "outputs": [],
   "source": [
    "PAGES = [\"Data\", \"Chart\", \"Returns\"]\n",
    "\n",
    "logging.basicConfig(encoding=\"utf-8\", level=logging.INFO)\n",
    "logger = logging.getLogger(__name__)\n",
    "\n",
    "bq = bql.Service()"
   ]
  },
  {
   "cell_type": "markdown",
   "metadata": {},
   "source": [
    "#### Setting up the queries\n",
    "\n",
    "It's a good practice to keep your queries *near* your code, but not necessarily embedded in it. This way, you can\n",
    "test your queries independent of the code. \n",
    "\n",
    "In this case, I use Jinja2 templates to parameter the fields. This is optional, you can just use f-strings or string replacement. "
   ]
  },
  {
   "cell_type": "code",
   "execution_count": 3,
   "metadata": {},
   "outputs": [],
   "source": [
    "hm_query = \"\"\"get(\n",
    "      id().position as #position,\n",
    "      id().reported_mkt_val/1M as #report_mkt_val_m\n",
    "    ) for(\n",
    "      holdings('{{security}}')\n",
    "    ) with(\n",
    "      fill=prev,\n",
    "      currency=USD\n",
    "    )\"\"\"\n",
    "\n",
    "fund_query = \"\"\"\n",
    "    get(\n",
    "         FUND_MGMT_COMPANY,MGR_CITY_NAME,MGR_COUNTRY_NAME,FUND_MGMT_STYLE,FUND_DOMICILE_TYP,FUND_TYP ,\n",
    "       FUND_TOTAL_ASSETS /1M,FUND_NET_ASSET_VAL, FUND_EXPENSE_RATIO,FUND_ASSET_CLASS_FOCUS,FUND_GEO_FOCUS,FUND_STRATEGY,FUND_INDUSTRY_FOCUS,\n",
    "       FUND_FLOW,FUND_RTG_CLASS_FOCUS,FUND_MKT_CAP_FOCUS,FUND_LEVERAGE_TYPE,\n",
    "       FUND_OPEN_INVESTOR_SHR, \n",
    "       FUND_BENCHMARK, ACTIVELY_MANAGED,INDEX_WEIGHTING_METHODOLOGY,REPLICATION_STRATEGY,ECONOMIC_ASSOCIATION \n",
    "    )\n",
    "    for(\n",
    "      ['{{security}}']\n",
    "    )\n",
    "    with(\n",
    "      fill=prev,\n",
    "      currency=USD\n",
    "    )\n",
    "\"\"\"\n",
    "\n",
    "m_query = \"\"\"get(\n",
    "      sum(group(id().reported_mkt_val/1M as #report_mkt_val_m, BICS_LEVEL_1_SECTOR_NAME)) as #total_mkt_val_by_sector\n",
    "    ) for(\n",
    "      holdings('{{security}}', dates={{offset}}Y)\n",
    "    ) with(\n",
    "      fill=prev,\n",
    "      currency=USD\n",
    "    )\n",
    "    preferences(\n",
    "       addcols=all\n",
    "    )\n",
    "    \"\"\"\n",
    "\n",
    "returns_query = \"\"\"\n",
    "    get(\n",
    "        DAY_TO_DAY_TOT_RETURN_GROSS_DVDS\n",
    "    )\n",
    "    for(\n",
    "      ['{{security}}']\n",
    "    ) with(\n",
    "      dates=range(-1Y, 0D),\n",
    "      fill=prev,\n",
    "      currency=USD\n",
    "    ) \n",
    "\"\"\"\n",
    "\n",
    "\n",
    "def _exec_bql(query: str, **kwargs) -> pd.DataFrame:\n",
    "    query_string = jinja2.Template(query).render(**kwargs)\n",
    "    logger.info(f\"Executing {query_string}\")\n",
    "    r = bq.execute(query_string)\n",
    "    df = bql.combined_df(r).reset_index()\n",
    "    return df"
   ]
  },
  {
   "cell_type": "markdown",
   "metadata": {},
   "source": [
    "#### The Working Functions\n",
    "\n",
    "These functions do the heavy lifting: executing a query, and processing the result, and displaying the result in the app. "
   ]
  },
  {
   "cell_type": "code",
   "execution_count": 4,
   "metadata": {},
   "outputs": [],
   "source": [
    "def add_data(app: nbapp.UiModel, security: str):\n",
    "    ddf = _exec_bql(fund_query, security=security)\n",
    "    p = app.get_page(PAGES[0])\n",
    "    p.clear()\n",
    "    df_combined = ddf.bfill().iloc[0:1].transpose().reset_index()\n",
    "    df_combined.columns = [\"Field\", \"Value\"]\n",
    "    p.add_df(name=\"f1\", df=df_combined)\n",
    "\n",
    "\n",
    "def draw_heatmap(app: nbapp.UiModel, security: str):\n",
    "    hmdf = _exec_bql(hm_query, security=security)\n",
    "    hmdf = hmdf.sort_values(by=\"#report_mkt_val_m\", ascending=False)\n",
    "\n",
    "    fig = px.histogram(hmdf, x=\"ID\", y=\"#report_mkt_val_m\")\n",
    "    p = app.get_page(PAGES[1])\n",
    "    p.clear()\n",
    "    p.add_plotly_fig(name=\"f1\", fig=fig)\n",
    "\n",
    "\n",
    "def add_historical(app: nbapp.UiModel, security: str):\n",
    "    p = app.get_page(PAGES[1])\n",
    "\n",
    "    dfs = []\n",
    "    for i in range(-4, 1):\n",
    "        d = _exec_bql(m_query, security=\"QQQ US Equity\", offset=i)\n",
    "        dfs.append(d)\n",
    "\n",
    "    all_df = pd.concat(dfs)\n",
    "    fig = px.histogram(\n",
    "        all_df,\n",
    "        x=\"DATE\",\n",
    "        y=\"#total_mkt_val_by_sector\",\n",
    "        color=\"ID\",\n",
    "        barmode=\"stack\",\n",
    "        color_discrete_sequence=px.colors.qualitative.Antique,\n",
    "    )\n",
    "    fig.update_layout(bargap=0.2)\n",
    "    p.add_plotly_fig(name=\"f2\", fig=fig)\n",
    "\n",
    "\n",
    "def add_returns(app: nbapp.UiModel, security: str):\n",
    "    p = app.get_page(PAGES[2])\n",
    "    p.clear()\n",
    "\n",
    "    df = _exec_bql(returns_query, security=security)\n",
    "    df[\"CUMULATIVE_RETURN\"] = (1 + df[\"DAY_TO_DAY_TOT_RETURN_GROSS_DVDS\"]).cumprod()\n",
    "\n",
    "    fig1 = px.line(df, x=\"DATE\", y=\"CUMULATIVE_RETURN\")\n",
    "    fig2 = px.line(df, x=\"DATE\", y=\"DAY_TO_DAY_TOT_RETURN_GROSS_DVDS\")\n",
    "\n",
    "    p.add_plotly_fig(name=\"fr_1\", fig=fig1)\n",
    "    p.add_plotly_fig(name=\"fr_1\", fig=fig2)\n",
    "\n",
    "\n",
    "def execute_click(\n",
    "    component: str, action: str, args: str, app: nbapp.UiModel, caller: str\n",
    "):\n",
    "    with app.messages:\n",
    "        try:\n",
    "            app.update_status(caller, message=\"Executing\", running=True)\n",
    "            security = app.get_valuestr(\"security\")\n",
    "            print(f\"Querying {security}\")\n",
    "            add_data(app, security)\n",
    "            add_returns(app, security)\n",
    "            draw_heatmap(app, security)\n",
    "            app.update_status(\n",
    "                caller, message=\"Executing historical query\", running=True\n",
    "            )\n",
    "\n",
    "            add_historical(app, security)\n",
    "\n",
    "            app.update_status(caller, message=\"Done\", running=False)\n",
    "        except Exception as e:\n",
    "            logger.exception(\"Error executing\")\n",
    "            app.update_status(caller, message=f\"Error {e}\", running=False)"
   ]
  },
  {
   "cell_type": "markdown",
   "metadata": {},
   "source": [
    "#### The App\n",
    "\n",
    "When designing apps, simplicity and clarity is key. This app demonstrates a linear, top down flow:\n",
    "- Config: The top section where settings are modified before any action is taken. \n",
    "- Execution: Usually the bottom of the Config section is a Button, like \"Execute\". When clicked, this triggers the main execution: Queries, Data Processing, Model Evaluation, etc. \n",
    "- Rendering: Rendering happens automatically when Execution is complete. Any visualization is display in a tabbed menu below. \n",
    "- Additional interactions can be done within the tabs. "
   ]
  },
  {
   "cell_type": "code",
   "execution_count": 5,
   "metadata": {},
   "outputs": [
    {
     "data": {
      "text/html": [
       "<script>\n",
       "                    if (window.location.href.indexOf('voila') >= 0){\n",
       "                        const l=document.createElement('link');\n",
       "                        l.setAttribute('rel','stylesheet');  \n",
       "                        l.setAttribute('type','text/css');\n",
       "                        l.setAttribute('href',`${window.location.href.split('/').slice(0,7).join('/')}/static/theme-light.css`);\n",
       "                        document.body.appendChild(l);\n",
       "                        document.body.classList.remove('theme-dark')\n",
       "                        document.body.classList.add('theme-light')\n",
       "                    }\n",
       "                </script>\n",
       "                "
      ],
      "text/plain": [
       "<nbappinator.appinator.ThemeFixer at 0x265269534d0>"
      ]
     },
     "metadata": {},
     "output_type": "display_data"
    },
    {
     "data": {
      "application/vnd.jupyter.widget-view+json": {
       "model_id": "a290550a5f3b4f02911e9f069d147a33",
       "version_major": 2,
       "version_minor": 0
      },
      "text/plain": [
       "Html(children=[Html(children=['\\n    .vuetify-styles code, .vuetify-styles kbd, .vuetify-styles samp{\\n       …"
      ]
     },
     "execution_count": 5,
     "metadata": {},
     "output_type": "execute_result"
    }
   ],
   "source": [
    "myapp = nbapp.TabbedUiModel(pages=PAGES, log_footer=\"Messages\", headers=[\"Config\"])\n",
    "\n",
    "config_page = myapp.get_page(\"Config\")\n",
    "config_page.add_textfield(name=\"security\", label=\"Enter Fund: \", value=\"QQQ US Equity\")\n",
    "\n",
    "config_page.add_button(\n",
    "    name=\"update\", label=\"Execute\", action=execute_click, status=True\n",
    ")\n",
    "\n",
    "myapp.display()"
   ]
  }
 ],
 "metadata": {
  "kernelspec": {
   "display_name": "Python 3",
   "language": "python",
   "name": "python3"
  },
  "language_info": {
   "codemirror_mode": {
    "name": "ipython",
    "version": 3
   },
   "file_extension": ".py",
   "mimetype": "text/x-python",
   "name": "python",
   "nbconvert_exporter": "python",
   "pygments_lexer": "ipython3",
   "version": "3.11.8"
  }
 },
 "nbformat": 4,
 "nbformat_minor": 2
}
