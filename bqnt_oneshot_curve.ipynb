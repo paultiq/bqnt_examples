{
 "cells": [
  {
   "cell_type": "markdown",
   "metadata": {},
   "source": [
    "# Intro\n",
    "\n",
    "This is a one-shot (single cell) notebook that shows curves for a single security over multiple years. \n",
    "\n",
    "This depends on `iql` being installed. Run `%pip install iql` if not.\n",
    "\n",
    "What's shown here:\n",
    "- Showing tenor and rate for a Curve / curvemembers\n",
    "- Retrieving historical rates\n",
    "- Displaying an animated Plotly graph"
   ]
  },
  {
   "cell_type": "code",
   "execution_count": null,
   "metadata": {},
   "outputs": [],
   "source": [
    "# If iql is not installed, uncomment next line\n",
    "# %pip install iql\n",
    "\n",
    "import iql\n",
    "import plotly.express as px\n",
    "from functools import cache\n",
    "import pandas as pd\n",
    "import jinja2\n",
    "import logging\n",
    "\n",
    "# {{security}} comes from the jinja2 template rendering. \n",
    "# pivot=(id, name) just means: put each id on a separate row, and the \"name\" field (the BQL field name) as the columns\n",
    "# paramquery is an iql feature to substitute the $OFFSET field with the results of the query\n",
    "\n",
    "query = \"\"\"\n",
    "select *, year(date) as year from bql(\"\n",
    "    get(\n",
    "        id().id_dates as #date,\n",
    "        id().tenor as #tenor,\n",
    "        id().year_fraction as #year_fraction,\n",
    "        rate(side=mid, dates=$OFFSETY) as #rate\n",
    "        ) \n",
    "    for(CURVEMEMBERS('{{security}}', dates=$OFFSETY))\n",
    "\", pivot=(id, name), paramquery=('$OFFSET', 'select * from range(-8, 1)'))\n",
    "order by year_fraction, year\n",
    "\"\"\"\n",
    "\n",
    "\n",
    "@cache\n",
    "def _exec_iql(query: str, **kwargs) -> pd.DataFrame:\n",
    "    try:\n",
    "        query_string = jinja2.Template(query).render(**kwargs)\n",
    "        df = iql.execute(query_string)\n",
    "        return df\n",
    "    except: # for blogging purposes, just use a dummy df\n",
    "        return pd.DataFrame({\"rate\": [.2*i for i in range(1, 10)], \"tenor\": range(1, 10), \"year_fraction\": [.3*i for i in range(1, 10)], \"year\": [2024]*9})\n",
    "\n",
    "curve_df = _exec_iql(query, security='YCGT0001 Index')\n",
    "\n",
    "curve_df = curve_df.sort_values(by=[\"year_fraction\", \"year\"])\n",
    "\n",
    "\n",
    "# animation_frame is the thing that the animation will iterate over\n",
    "fig = px.bar(curve_df, x=\"year_fraction\", y=\"rate\", animation_frame=\"year\", animation_group=\"year_fraction\")\n",
    "\n",
    "# Using the numerical year_fraction to position the X axis, but show the tenor label\n",
    "fig.update_xaxes(tickvals=curve_df[\"year_fraction\"], ticktext=curve_df[\"tenor\"])\n",
    "\n",
    "# Set x and y axes ranges, so the chart is stable when animating\n",
    "fig.update_yaxes(range=[curve_df[\"rate\"].min(), curve_df[\"rate\"].max()])\n",
    "fig.update_xaxes(range=[curve_df[\"year_fraction\"].min(), curve_df[\"year_fraction\"].max()])\n",
    "\n",
    "# Set a fixed bar width, so the bars don't change sizes during animation\n",
    "fig.update_traces(width=0.5)\n",
    "\n",
    "fig"
   ]
  },
  {
   "cell_type": "markdown",
   "metadata": {},
   "source": [
    "# Alternative: Show as a Gradient\n",
    "\n",
    "Instead of showing as an animation, you could plot them all together. A gradient is one way to show time movement. In this case, I'll use a built-in list of colors: px.colors.sequential.Greys. \n",
    "\n",
    "Since Greys has 9 values, I cheated a little by setting the range to only have 9 years. You can replace that with any list of Colors.\n"
   ]
  },
  {
   "cell_type": "code",
   "execution_count": null,
   "metadata": {},
   "outputs": [],
   "source": [
    "\n",
    "fig = px.line(curve_df, x=\"year_fraction\", y=\"rate\", color=\"year\", color_discrete_sequence=px.colors.sequential.Greys)\n",
    "fig.update_xaxes(tickvals=curve_df[\"year_fraction\"], ticktext=curve_df[\"tenor\"])\n"
   ]
  }
 ],
 "metadata": {
  "kernelspec": {
   "display_name": "Python 3",
   "language": "python",
   "name": "python3"
  },
  "language_info": {
   "codemirror_mode": {
    "name": "ipython",
    "version": 3
   },
   "file_extension": ".py",
   "mimetype": "text/x-python",
   "name": "python",
   "nbconvert_exporter": "python",
   "pygments_lexer": "ipython3",
   "version": "3.11.8"
  }
 },
 "nbformat": 4,
 "nbformat_minor": 2
}
