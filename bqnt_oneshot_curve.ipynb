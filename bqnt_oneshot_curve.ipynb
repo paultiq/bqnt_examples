{
 "cells": [
  {
   "cell_type": "markdown",
   "metadata": {},
   "source": [
    "# Intro\n",
    "\n",
    "This is a one-shot (single cell) notebook that shows curves for a single security over multiple years. \n",
    "\n",
    "This depends on `iql` being installed. Run `%pip install iql` if not.\n",
    "\n",
    "What's shown here:\n",
    "- Showing tenor and rate for a Curve / curvemembers\n",
    "- Retrieving historical rates\n",
    "- Displaying an animated Plotly graph"
   ]
  },
  {
   "cell_type": "code",
   "execution_count": null,
   "metadata": {},
   "outputs": [],
   "source": [
    "# If iql is not installed, uncomment next line\n",
    "# %pip install iql\n",
    "\n",
    "import iql\n",
    "import plotly.express as px\n",
    "from functools import cache\n",
    "import pandas as pd\n",
    "import jinja2\n",
    "\n",
    "# {{security}} comes from the jinja2 template rendering. \n",
    "# pivot=(id, name) just means: put each id on a separate row, and the \"name\" field (the BQL field name) as the columns\n",
    "# paramquery is an iql feature to substitute the $OFFSET field with the results of the query\n",
    "\n",
    "query = \"\"\"\n",
    "select *, year(date) as year from bql(\"\n",
    "    get(\n",
    "        id().id_dates as #date,\n",
    "        id().tenor as #tenor,\n",
    "        id().year_fraction as #year_fraction,\n",
    "        rate(side=mid, dates=$OFFSETY) as #rate\n",
    "        ) \n",
    "    for(CURVEMEMBERS('{{security}}', dates=$OFFSETY))\n",
    "\", pivot=(id, name), paramquery=('$OFFSET', 'select * from range(-12, 1)'))\n",
    "order by year_fraction, year\n",
    "\"\"\"\n",
    "\n",
    "\n",
    "@cache\n",
    "def _exec_iql(query: str, **kwargs) -> pd.DataFrame:\n",
    "    query_string = jinja2.Template(query).render(**kwargs)\n",
    "    df = iql.execute(query_string)\n",
    "    return df\n",
    "\n",
    "curve_df = _exec_iql(query, security='YCGT0001 Index')\n",
    "\n",
    "    \n",
    "curve_df = curve_df.sort_values(by=[\"year_fraction\", \"year\"])\n",
    "\n",
    "\n",
    "# animation_frame is the thing that the animation will iterate over\n",
    "fig = px.bar(curve_df, x=\"year_fraction\", y=\"rate\", animation_frame=\"year\", animation_group=\"year_fraction\")\n",
    "\n",
    "# Using the numerical year_fraction to position the X axis, but show the tenor label\n",
    "fig.update_xaxes(tickvals=curve_df[\"year_fraction\"], ticktext=curve_df[\"tenor\"])\n",
    "\n",
    "# Set x and y axes ranges, so the chart is stable when animating\n",
    "fig.update_yaxes(range=[curve_df[\"rate\"].min(), curve_df[\"rate\"].max()])\n",
    "fig.update_xaxes(range=[curve_df[\"year_fraction\"].min(), curve_df[\"year_fraction\"].max()])\n",
    "\n",
    "# Set a fixed bar width, so the bars don't change sizes during animation\n",
    "fig.update_traces(width=0.5)\n",
    "\n",
    "fig"
   ]
  }
 ],
 "metadata": {
  "language_info": {
   "name": "python"
  }
 },
 "nbformat": 4,
 "nbformat_minor": 2
}
