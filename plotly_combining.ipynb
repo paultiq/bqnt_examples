{
 "cells": [
  {
   "cell_type": "markdown",
   "metadata": {},
   "source": [
    "#### Import Required Libraries"
   ]
  },
  {
   "cell_type": "code",
   "execution_count": null,
   "metadata": {},
   "outputs": [],
   "source": [
    "import plotly.express as px\n",
    "import pandas as pd\n",
    "from plotly.subplots import make_subplots\n"
   ]
  },
  {
   "cell_type": "code",
   "execution_count": null,
   "metadata": {},
   "outputs": [],
   "source": [
    "import plotly.io as pio\n",
    "\n",
    "pio.renderers.default='plotly_mimetype+notebook'\n",
    "pio.templates[\"iqmo\"] = pio.templates[\"plotly\"]\n",
    "pio.templates[\"iqmo\"].layout.margin = dict(l=50, r=50, t=50, b=50) \n",
    "pio.templates[\"iqmo\"].layout.height = 250\n",
    "pio.templates.default = \"iqmo\""
   ]
  },
  {
   "cell_type": "code",
   "execution_count": null,
   "metadata": {},
   "outputs": [],
   "source": [
    "# Create a DataFrame for the Tests\n",
    "\n",
    "df = pd.DataFrame({\"A\": range(100), \"B\": range(1000, 1100), \"C\": range(-100, 0)})"
   ]
  },
  {
   "cell_type": "markdown",
   "metadata": {},
   "source": [
    "#### Starting Point\n",
    "\n",
    "Let's say you have two charts that you want to combine: fig1 and fig2"
   ]
  },
  {
   "cell_type": "code",
   "execution_count": null,
   "metadata": {},
   "outputs": [],
   "source": [
    "fig1 = px.line(df, x=\"A\", y=\"B\")\n",
    "fig2 = px.bar(df, x=\"A\", y=\"C\")\n",
    "\n",
    "display(fig1)\n",
    "display(fig2)"
   ]
  },
  {
   "cell_type": "markdown",
   "metadata": {},
   "source": [
    "#### The Easy Way?\n",
    "\n",
    "Make them all the same type, a line or bar"
   ]
  },
  {
   "cell_type": "code",
   "execution_count": null,
   "metadata": {},
   "outputs": [],
   "source": [
    "fig1 = px.bar(df, x=\"A\", y=[\"B\", \"C\"])\n",
    "\n",
    "fig1"
   ]
  },
  {
   "cell_type": "markdown",
   "metadata": {},
   "source": [
    "#### Or, Combine into One Figure"
   ]
  },
  {
   "cell_type": "code",
   "execution_count": null,
   "metadata": {},
   "outputs": [],
   "source": [
    "fig1 = px.line(df, x=\"A\", y=\"B\")\n",
    "fig2 = px.bar(df, x=\"A\", y=\"C\")\n",
    "\n",
    "fig1.add_traces(fig2.data)\n",
    "\n",
    "display(fig1)"
   ]
  },
  {
   "cell_type": "markdown",
   "metadata": {},
   "source": [
    "#### Add a Legend\n",
    "\n",
    "Plotly doesn't show the legend for single data series, so we need to give the series names."
   ]
  },
  {
   "cell_type": "code",
   "execution_count": null,
   "metadata": {},
   "outputs": [],
   "source": [
    "fig1 = px.line(df, x=\"A\", y=\"B\")\n",
    "fig2 = px.bar(df, x=\"A\", y=\"C\")\n",
    "\n",
    "fig1.data[0].name = \"Line Plot\"\n",
    "fig1.data[0].showlegend = True\n",
    "\n",
    "fig2.data[0].name = \"Bar Chart\"\n",
    "fig2.data[0].showlegend = True\n",
    "\n",
    "fig1.add_traces(fig2.data)\n",
    "display(fig1)"
   ]
  },
  {
   "cell_type": "markdown",
   "metadata": {},
   "source": [
    "#### Or, Show with Different Y Axes (left and right)"
   ]
  },
  {
   "cell_type": "code",
   "execution_count": null,
   "metadata": {},
   "outputs": [],
   "source": [
    "sfig1 = px.line(df, x=\"A\", y=\"B\")\n",
    "sfig2 = px.bar(df, x=\"A\", y=\"C\")\n",
    "\n",
    "sfig1.data[0].name = \"Line Plot\"\n",
    "sfig1.data[0].showlegend = True\n",
    "\n",
    "sfig2.data[0].name = \"Bar Chart\"\n",
    "sfig2.data[0].showlegend = True\n",
    "\n",
    "fig = make_subplots(rows=1, cols=1, specs=[[{\"secondary_y\": True}]])\n",
    "\n",
    "fig.add_traces(sfig1.data)\n",
    "fig.add_traces(sfig2.data, secondary_ys=[True])\n",
    "    \n",
    "display(fig)"
   ]
  },
  {
   "cell_type": "markdown",
   "metadata": {},
   "source": [
    "#### Or, show as two separate subplots\n",
    "\n",
    "With a shared X axes"
   ]
  },
  {
   "cell_type": "code",
   "execution_count": null,
   "metadata": {},
   "outputs": [],
   "source": [
    "fig1 = px.line(df, x=\"A\", y=\"B\")\n",
    "fig2 = px.bar(df, x=\"A\", y=\"C\")\n",
    "\n",
    "fig = make_subplots(rows=2, cols=1, shared_xaxes=True, subplot_titles=(\"Top\", \"Bottom\"), row_heights=[0.8, 0.2])\n",
    "\n",
    "fig.add_traces(fig1.data, rows=[1], cols=[1])\n",
    "fig.add_traces(fig2.data, rows=[2], cols=[1])\n",
    "\n",
    "fig"
   ]
  },
  {
   "cell_type": "markdown",
   "metadata": {},
   "source": [
    "# Bonus: Show different labels in place of X Axis Ticks"
   ]
  },
  {
   "cell_type": "code",
   "execution_count": null,
   "metadata": {},
   "outputs": [],
   "source": [
    "df[\"A_labels\"] = df[\"A\"].astype(str) + \" Some text\"\n",
    "df = df.head(10)\n",
    "fig1 = px.line(df, x=\"A\", y=\"B\")\n",
    "\n",
    "fig1.update_xaxes(tickvals=df[\"A\"], ticktext=df[\"A_labels\"])\n",
    "\n",
    "fig1\n"
   ]
  }
 ],
 "metadata": {
  "kernelspec": {
   "display_name": "Python 3",
   "language": "python",
   "name": "python3"
  },
  "language_info": {
   "codemirror_mode": {
    "name": "ipython",
    "version": 3
   },
   "file_extension": ".py",
   "mimetype": "text/x-python",
   "name": "python",
   "nbconvert_exporter": "python",
   "pygments_lexer": "ipython3",
   "version": "3.11.8"
  }
 },
 "nbformat": 4,
 "nbformat_minor": 2
}
