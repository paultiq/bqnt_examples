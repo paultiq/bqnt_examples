{
 "cells": [
  {
   "cell_type": "markdown",
   "metadata": {},
   "source": [
    "#### Install memray \n",
    "\n",
    "You can use %package or %pip. \n",
    "\n",
    "This only needs to be run once per session, and only if memray is not in your Custom Environment.\n",
    "\n",
    "NOTE: This only works on Linux or Mac. Will not install on Windows"
   ]
  },
  {
   "cell_type": "code",
   "execution_count": 1,
   "metadata": {},
   "outputs": [],
   "source": [
    "# %pip install memray xgboost plotly"
   ]
  },
  {
   "cell_type": "code",
   "execution_count": 2,
   "metadata": {},
   "outputs": [
    {
     "name": "stdout",
     "output_type": "stream",
     "text": [
      "The remaining cells must be run in Bquant\n"
     ]
    },
    {
     "ename": "AssertionError",
     "evalue": "",
     "output_type": "error",
     "traceback": [
      "\u001b[1;31m---------------------------------------------------------------------------\u001b[0m",
      "\u001b[1;31mAssertionError\u001b[0m                            Traceback (most recent call last)",
      "Cell \u001b[1;32mIn[2], line 4\u001b[0m\n\u001b[0;32m      2\u001b[0m \u001b[38;5;28;01mif\u001b[39;00m \u001b[38;5;124m\"\u001b[39m\u001b[38;5;124mBQUANT_USERNAME\u001b[39m\u001b[38;5;124m\"\u001b[39m \u001b[38;5;129;01mnot\u001b[39;00m \u001b[38;5;129;01min\u001b[39;00m os\u001b[38;5;241m.\u001b[39menviron:\n\u001b[0;32m      3\u001b[0m     \u001b[38;5;28mprint\u001b[39m(\u001b[38;5;124m\"\u001b[39m\u001b[38;5;124mThe remaining cells must be run in Bquant\u001b[39m\u001b[38;5;124m\"\u001b[39m)\n\u001b[1;32m----> 4\u001b[0m     \u001b[38;5;28;01massert\u001b[39;00m \u001b[38;5;28;01mFalse\u001b[39;00m\n",
      "\u001b[1;31mAssertionError\u001b[0m: "
     ]
    }
   ],
   "source": [
    "import os\n",
    "\n",
    "if \"BQUANT_USERNAME\" not in os.environ:\n",
    "    print(\"The remaining cells must be run in Bquant\")\n",
    "    assert False"
   ]
  },
  {
   "cell_type": "markdown",
   "metadata": {},
   "source": [
    "#### Load \n",
    "\n",
    "Loading the extension makes the memray \"magics\" available in Jupyter"
   ]
  },
  {
   "cell_type": "code",
   "execution_count": null,
   "metadata": {},
   "outputs": [],
   "source": [
    "%load_ext memray"
   ]
  },
  {
   "cell_type": "markdown",
   "metadata": {},
   "source": [
    "#### Generate Data"
   ]
  },
  {
   "cell_type": "code",
   "execution_count": null,
   "metadata": {},
   "outputs": [],
   "source": [
    "import bql\n",
    "import xgboost as xgb\n",
    "import plotly.express as px"
   ]
  },
  {
   "cell_type": "code",
   "execution_count": null,
   "metadata": {},
   "outputs": [],
   "source": [
    "daterange = 29  # days\n",
    "security = \"IBM US Equity\"\n",
    "\n",
    "basics_query = f\"\"\"get(\n",
    "      px_last\n",
    "    ) for(\n",
    "      ['{security}']\n",
    "    ) with(\n",
    "      dates=range(-{daterange}d, 0d),\n",
    "      fill=prev,\n",
    "      currency=USD\n",
    "    )\"\"\"\n",
    "\n",
    "bql_svc = bql.Service()\n",
    "\n",
    "response = bql_svc.execute(basics_query)\n",
    "base_df = bql.combined_df(response)\n",
    "\n",
    "# Reset the index: bql's combined_df returns ID as a sole index.\n",
    "base_df = base_df.reset_index()\n",
    "\n",
    "base_df[\"date_ordinal\"] = base_df[\"DATE\"].apply(lambda x: x.toordinal())"
   ]
  },
  {
   "cell_type": "markdown",
   "metadata": {},
   "source": [
    "#### memray_flamegraph"
   ]
  },
  {
   "cell_type": "code",
   "execution_count": null,
   "metadata": {},
   "outputs": [],
   "source": [
    "%%memray_flamegraph\n",
    "\n",
    "xg_df = base_df.copy()\n",
    "\n",
    "xg_df['month'] = xg_df['DATE'].dt.month\n",
    "xg_df['day_of_week'] = xg_df['DATE'].dt.dayofweek\n",
    "\n",
    "train_df = xg_df.iloc[:-21]\n",
    "test_df = xg_df.iloc[-21:]\n",
    "\n",
    "X_train = train_df[['month', 'day_of_week']]\n",
    "y_train = train_df[\"px_last\"]\n",
    "\n",
    "xmodel = xgb.XGBRegressor(n_estimators=100, learning_rate=0.1, objective='reg:squarederror')\n",
    "xmodel.fit(X_train, y_train)\n",
    "\n",
    "xg_df.loc[test_df.index, 'xgpredicted_px_last'] = xmodel.predict(test_df[['month', 'day_of_week']])\n",
    "\n",
    "px.line(xg_df, x=\"DATE\", y=[\"px_last\", \"xgpredicted_px_last\"])\n"
   ]
  },
  {
   "cell_type": "markdown",
   "metadata": {},
   "source": [
    "#### cprofile Profile"
   ]
  },
  {
   "cell_type": "code",
   "execution_count": null,
   "metadata": {},
   "outputs": [],
   "source": [
    "%%prun \n",
    "\n",
    "xg_df = base_df.copy()\n",
    "\n",
    "xg_df[\"month\"] = xg_df[\"DATE\"].dt.month\n",
    "xg_df[\"day_of_week\"] = xg_df[\"DATE\"].dt.dayofweek\n",
    "\n",
    "train_df = xg_df.iloc[:-21]\n",
    "test_df = xg_df.iloc[-21:]\n",
    "\n",
    "X_train = train_df[[\"month\", \"day_of_week\"]]\n",
    "y_train = train_df[\"px_last\"]\n",
    "\n",
    "xmodel = xgb.XGBRegressor(\n",
    "    n_estimators=100, learning_rate=0.1, objective=\"reg:squarederror\"\n",
    ")\n",
    "xmodel.fit(X_train, y_train)\n",
    "\n",
    "xg_df.loc[test_df.index, \"xgpredicted_px_last\"] = xmodel.predict(\n",
    "    test_df[[\"month\", \"day_of_week\"]]\n",
    ")\n",
    "\n",
    "px.line(xg_df, x=\"DATE\", y=[\"px_last\", \"xgpredicted_px_last\"])"
   ]
  },
  {
   "cell_type": "code",
   "execution_count": null,
   "metadata": {},
   "outputs": [],
   "source": [
    "%pip install line_profiler\n",
    "%load_ext line_profiler\n",
    "\n",
    "\n",
    "def my_entrypoint():\n",
    "    xg_df = base_df.copy()\n",
    "\n",
    "    xg_df[\"month\"] = xg_df[\"DATE\"].dt.month\n",
    "    xg_df[\"day_of_week\"] = xg_df[\"DATE\"].dt.dayofweek\n",
    "\n",
    "    train_df = xg_df.iloc[:-21]\n",
    "    test_df = xg_df.iloc[-21:]\n",
    "\n",
    "    X_train = train_df[[\"month\", \"day_of_week\"]]\n",
    "    y_train = train_df[\"px_last\"]\n",
    "\n",
    "    xmodel = xgb.XGBRegressor(\n",
    "        n_estimators=100, learning_rate=0.1, objective=\"reg:squarederror\"\n",
    "    )\n",
    "    xmodel.fit(X_train, y_train)\n",
    "\n",
    "    xg_df.loc[test_df.index, \"xgpredicted_px_last\"] = xmodel.predict(\n",
    "        test_df[[\"month\", \"day_of_week\"]]\n",
    "    )\n",
    "\n",
    "    px.line(xg_df, x=\"DATE\", y=[\"px_last\", \"xgpredicted_px_last\"])"
   ]
  },
  {
   "cell_type": "markdown",
   "metadata": {},
   "source": [
    "#### Use Line_Profiler %lprun"
   ]
  },
  {
   "cell_type": "code",
   "execution_count": null,
   "metadata": {},
   "outputs": [],
   "source": [
    "%lprun -f my_entrypoint my_entrypoint()"
   ]
  },
  {
   "cell_type": "markdown",
   "metadata": {},
   "source": [
    "#### Use timeit for Runtime"
   ]
  },
  {
   "cell_type": "code",
   "execution_count": null,
   "metadata": {},
   "outputs": [],
   "source": [
    "%timeit my_entrypoint"
   ]
  },
  {
   "cell_type": "markdown",
   "metadata": {},
   "source": [
    "#### Memory_profiler"
   ]
  },
  {
   "cell_type": "code",
   "execution_count": null,
   "metadata": {},
   "outputs": [],
   "source": [
    "%pip install memory_profiler\n",
    "%load_ext memory_profiler"
   ]
  },
  {
   "cell_type": "code",
   "execution_count": null,
   "metadata": {},
   "outputs": [],
   "source": [
    "%memit my_entrypoint"
   ]
  }
 ],
 "metadata": {
  "kernelspec": {
   "display_name": "Python 3",
   "language": "python",
   "name": "python3"
  },
  "language_info": {
   "codemirror_mode": {
    "name": "ipython",
    "version": 3
   },
   "file_extension": ".py",
   "mimetype": "text/x-python",
   "name": "python",
   "nbconvert_exporter": "python",
   "pygments_lexer": "ipython3",
   "version": "3.11.8"
  }
 },
 "nbformat": 4,
 "nbformat_minor": 2
}
