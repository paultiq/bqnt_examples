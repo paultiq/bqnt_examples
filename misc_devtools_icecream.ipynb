{
 "cells": [
  {
   "cell_type": "markdown",
   "metadata": {},
   "source": [
    "# Install icecream first \n",
    "\n",
    "Uncomment the following line"
   ]
  },
  {
   "cell_type": "code",
   "execution_count": 1,
   "metadata": {},
   "outputs": [],
   "source": [
    "# %pip install icecream"
   ]
  },
  {
   "cell_type": "markdown",
   "metadata": {},
   "source": [
    "#### Load some data"
   ]
  },
  {
   "cell_type": "code",
   "execution_count": 2,
   "metadata": {},
   "outputs": [],
   "source": [
    "import bql\n",
    "import xgboost as xgb\n",
    "import plotly.express as px"
   ]
  },
  {
   "cell_type": "code",
   "execution_count": 3,
   "metadata": {},
   "outputs": [],
   "source": [
    "daterange = 29  # days\n",
    "security = \"IBM US Equity\"\n",
    "\n",
    "basics_query = f\"\"\"get(\n",
    "      px_last\n",
    "    ) for(\n",
    "      ['{security}']\n",
    "    ) with(\n",
    "      dates=range(-{daterange}d, 0d),\n",
    "      fill=prev,\n",
    "      currency=USD\n",
    "    )\"\"\"\n",
    "\n",
    "bql_svc = bql.Service()\n",
    "\n",
    "response = bql_svc.execute(basics_query)\n",
    "base_df = bql.combined_df(response)\n",
    "\n",
    "# Reset the index: bql's combined_df returns ID as a sole index.\n",
    "base_df = base_df.reset_index()\n",
    "\n",
    "base_df[\"date_ordinal\"] = base_df[\"DATE\"].apply(lambda x: x.toordinal())"
   ]
  },
  {
   "cell_type": "markdown",
   "metadata": {},
   "source": [
    "#### Load icecream\n",
    "\n",
    "Icecream is a *better* print debugger. In practice, I like to use loggers, but this is fine."
   ]
  },
  {
   "cell_type": "code",
   "execution_count": 4,
   "metadata": {},
   "outputs": [],
   "source": [
    "from icecream import ic\n",
    "\n",
    "ic.configureOutput(includeContext=True, contextAbsPath=False)\n",
    "\n",
    "\n",
    "def warn(s):\n",
    "    print(s)\n",
    "\n",
    "\n",
    "ic.configureOutput(outputFunction=warn)"
   ]
  },
  {
   "cell_type": "markdown",
   "metadata": {},
   "source": [
    "#### Using the XGBoost example\n",
    "\n",
    "Modify this to add some variables"
   ]
  },
  {
   "cell_type": "code",
   "execution_count": 5,
   "metadata": {},
   "outputs": [],
   "source": [
    "def my_entrypoint():\n",
    "    xg_df = base_df.copy()\n",
    "\n",
    "    # IC: Print the last row\n",
    "    ic(len(xg_df))\n",
    "\n",
    "    xg_df[\"month\"] = xg_df[\"DATE\"].dt.month\n",
    "    xg_df[\"day_of_week\"] = xg_df[\"DATE\"].dt.dayofweek\n",
    "\n",
    "    train_df = xg_df.iloc[:-21]\n",
    "    test_df = xg_df.iloc[-21:]\n",
    "\n",
    "    X_train = train_df[[\"month\", \"day_of_week\"]]\n",
    "    y_train = train_df[\"px_last\"]\n",
    "\n",
    "    xmodel = xgb.XGBRegressor(\n",
    "        n_estimators=100, learning_rate=0.1, objective=\"reg:squarederror\"\n",
    "    )\n",
    "    xmodel.fit(X_train, y_train)\n",
    "\n",
    "    xg_df.loc[test_df.index, \"xgpredicted_px_last\"] = xmodel.predict(\n",
    "        test_df[[\"month\", \"day_of_week\"]]\n",
    "    )\n",
    "\n",
    "    # IC: Print the last row\n",
    "    ic(xg_df.iloc[-1])\n",
    "\n",
    "    px.line(xg_df, x=\"DATE\", y=[\"px_last\", \"xgpredicted_px_last\"])"
   ]
  },
  {
   "cell_type": "code",
   "execution_count": 6,
   "metadata": {},
   "outputs": [
    {
     "name": "stdout",
     "output_type": "stream",
     "text": [
      "ic| 2248840875.py:6 in my_entrypoint()- len(xg_df): 30\n",
      "ic| 2248840875.py:23 in my_entrypoint()\n",
      "    xg_df.iloc[-1]: index                                   29\n",
      "                    ID                           IBM US Equity\n",
      "                    DATE                   2023-06-27 00:00:00\n",
      "                    px_last                            3.44542\n",
      "                    date_ordinal                        738698\n",
      "                    month                                    6\n",
      "                    day_of_week                              1\n",
      "                    xgpredicted_px_last                4.53126\n",
      "                    Name: 29, dtype: object\n"
     ]
    }
   ],
   "source": [
    "my_entrypoint()"
   ]
  }
 ],
 "metadata": {
  "kernelspec": {
   "display_name": "Python 3",
   "language": "python",
   "name": "python3"
  },
  "language_info": {
   "codemirror_mode": {
    "name": "ipython",
    "version": 3
   },
   "file_extension": ".py",
   "mimetype": "text/x-python",
   "name": "python",
   "nbconvert_exporter": "python",
   "pygments_lexer": "ipython3",
   "version": "3.11.8"
  }
 },
 "nbformat": 4,
 "nbformat_minor": 2
}
