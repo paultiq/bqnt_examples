{
 "cells": [
  {
   "cell_type": "code",
   "execution_count": null,
   "metadata": {},
   "outputs": [],
   "source": [
    "import iql\n",
    "%load_ext iql"
   ]
  },
  {
   "cell_type": "markdown",
   "metadata": {},
   "source": [
    "#### Cell and Line Magics\n",
    "\n",
    "You can use %iql for a one-line command, or %%iql at the beginning of a cell for a long query.\n",
    "\n",
    "This is the same as calling: `iql.execute(...)`"
   ]
  },
  {
   "cell_type": "code",
   "execution_count": null,
   "metadata": {},
   "outputs": [],
   "source": [
    "# %iql is called a \"line magic\" in Jupyter. %%iql is a cell magic\n",
    "\n",
    "df = %iql select * from range(10)\n",
    "\n",
    "display(df)"
   ]
  },
  {
   "cell_type": "markdown",
   "metadata": {},
   "source": [
    "#### Multiple Statements Separated by Semicolons"
   ]
  },
  {
   "cell_type": "code",
   "execution_count": null,
   "metadata": {},
   "outputs": [],
   "source": [
    "%%iql\n",
    "\n",
    "create table abc as select * from range(10);\n",
    "\n",
    "select * from abc where range > 5"
   ]
  },
  {
   "cell_type": "markdown",
   "metadata": {},
   "source": [
    "#### BQL can be executed on the fly\n",
    "\n",
    "Use -o to store the output in a variable"
   ]
  },
  {
   "cell_type": "code",
   "execution_count": null,
   "metadata": {},
   "outputs": [],
   "source": [
    "%%iql -o my_bql_df\n",
    "\n",
    "get(px_last)\n",
    "for('IBM US Equity')\n",
    "with(dates=range(-3d, 0d))"
   ]
  },
  {
   "cell_type": "markdown",
   "metadata": {},
   "source": [
    "#### %%capture to Suppress Display"
   ]
  },
  {
   "cell_type": "code",
   "execution_count": null,
   "metadata": {},
   "outputs": [],
   "source": [
    "%%capture \n",
    "%%iql -o my_bql_df\n",
    "\n",
    "get(px_last)\n",
    "for('IBM US Equity')\n",
    "with(dates=range(-3d, 0d))"
   ]
  },
  {
   "cell_type": "markdown",
   "metadata": {},
   "source": [
    "#### Now for interesting stuff: SQL + BQL\n",
    "\n",
    "Nothing too fancy, just ordering the results"
   ]
  },
  {
   "cell_type": "code",
   "execution_count": null,
   "metadata": {},
   "outputs": [],
   "source": [
    "%%iql -o my_bql_df\n",
    "\n",
    "select * from bql(\"\n",
    "    get(px_last)\n",
    "    for('IBM US Equity')\n",
    "    with(dates=range(-3d, 0d))\n",
    "\")\n",
    "order by date desc"
   ]
  },
  {
   "cell_type": "markdown",
   "metadata": {},
   "source": [
    "#### Pivoting multiple fields for a time series result\n",
    "\n"
   ]
  },
  {
   "cell_type": "code",
   "execution_count": null,
   "metadata": {},
   "outputs": [],
   "source": [
    "import iql\n",
    "%load_ext iql"
   ]
  },
  {
   "cell_type": "markdown",
   "metadata": {},
   "source": [
    "#### Cell and Line Magics\n",
    "\n",
    "You can use %iql for a one-line command, or %%iql at the beginning of a cell for a long query.\n",
    "\n",
    "This is the same as calling: `iql.execute(...)`"
   ]
  },
  {
   "cell_type": "code",
   "execution_count": null,
   "metadata": {},
   "outputs": [],
   "source": [
    "# %iql is called a \"line magic\" in Jupyter. %%iql is a cell magic\n",
    "\n",
    "df = %iql select * from range(10)\n",
    "\n",
    "display(df)"
   ]
  },
  {
   "cell_type": "markdown",
   "metadata": {},
   "source": [
    "#### Multiple Statements Separated by Semicolons"
   ]
  },
  {
   "cell_type": "code",
   "execution_count": null,
   "metadata": {},
   "outputs": [],
   "source": [
    "%%iql\n",
    "\n",
    "create table abc as select * from range(10);\n",
    "\n",
    "select * from abc where range > 5"
   ]
  },
  {
   "cell_type": "markdown",
   "metadata": {},
   "source": [
    "#### BQL can be executed on the fly\n",
    "\n",
    "Use -o to store the output in a variable"
   ]
  },
  {
   "cell_type": "code",
   "execution_count": null,
   "metadata": {},
   "outputs": [],
   "source": [
    "%%iql -o my_bql_df\n",
    "\n",
    "get(px_last)\n",
    "for('IBM US Equity')\n",
    "with(dates=range(-3d, 0d))"
   ]
  },
  {
   "cell_type": "markdown",
   "metadata": {},
   "source": [
    "#### Pivot Multi-Field Data"
   ]
  },
  {
   "cell_type": "code",
   "execution_count": null,
   "metadata": {},
   "outputs": [],
   "source": [
    "%%iql -o my_bql_df\n",
    "\n",
    "select * from bql(\"\n",
    "    get(px_last, px_volume)\n",
    "    for('IBM US Equity')\n",
    "    with(dates=range(-3d, 0d))\n",
    "\", pivot=((date, id), name, value))\n",
    "order by date desc"
   ]
  },
  {
   "cell_type": "markdown",
   "metadata": {},
   "source": [
    "#### Or, pivot to one column per security"
   ]
  },
  {
   "cell_type": "code",
   "execution_count": null,
   "metadata": {},
   "outputs": [],
   "source": [
    "%%iql -o my_bql_df\n",
    "\n",
    "--- pivot=(rows, columns, value field)\n",
    "select * from bql(\"\n",
    "    get(px_last)\n",
    "    for(members('NIFTY Index'))\n",
    "    with(dates=range(-3d, 0d))\n",
    "\", pivot=(date, id, value))\n"
   ]
  },
  {
   "cell_type": "markdown",
   "metadata": {},
   "source": [
    "#### Other Examples"
   ]
  },
  {
   "cell_type": "code",
   "execution_count": null,
   "metadata": {},
   "outputs": [],
   "source": [
    "%%iql\n",
    "\n",
    "---- Ranking\n",
    "\n",
    "SELECT *, rank() over (partition by month(date) order by px_high) ranking\n",
    "    FROM bql(\"\n",
    "                get (px_open, px_high, px_low, px_last, px_volume/1M as #px_volume)\n",
    "                for ('IBM US Equity')\n",
    "                with (dates=range(-1Y, 0D), fill=prev)\n",
    "            \", pivot=(auto)) as data\n",
    "    ORDER BY date"
   ]
  },
  {
   "cell_type": "code",
   "execution_count": null,
   "metadata": {},
   "outputs": [],
   "source": [
    "%%iql\n",
    "\n",
    "---- Skew and Kurtosis\n",
    "\n",
    "SELECT id,\n",
    "    avg(px_last) avg_px_last,\n",
    "    kurtosis(px_last) kurt_px_last,\n",
    "    count(*) num_observations\n",
    "    FROM bql(\"\n",
    "            get(px_last(dates=range(-10D, 0D), fill=prev) as #px_last)\n",
    "            for (['TSLA US Equity','IBM US Equity'])\n",
    "            \", pivot=auto)\n",
    "    GROUP BY id"
   ]
  },
  {
   "cell_type": "code",
   "execution_count": null,
   "metadata": {},
   "outputs": [],
   "source": [
    "%%iql \n",
    "\n",
    "---- Price change vs peers\n",
    "\n",
    "SELECT c.id, c.country_iso, c.industry_subgroup, c.cur_mkt_cap, c.px_change, p.id, p.country_iso, p.industry_subgroup, p.cur_mkt_cap, p.px_change, c.px_change - p.px_change px_change_delta\n",
    "    FROM\n",
    "    (SELECT *, (px_last - px_last_1y) / px_last_1y as px_change\n",
    "        -- px_change could also be calculated in BQL via pct_diff()\n",
    "        FROM\n",
    "            bql(\"\n",
    "                get(name, COUNTRY_ISO, industry_subgroup, cur_mkt_cap/1M as #cur_mkt_cap, px_last, px_last(dates=-1Y) as #px_last_1y) for (peers('IBM US Equity')) with (currency=USD)\n",
    "            \", pivot=(id,name), dropna=True)\n",
    "        ) as p\n",
    "    JOIN\n",
    "        (SELECT *, (px_last - px_last_1y) / px_last_1y as px_change\n",
    "        FROM\n",
    "            bql(\"\n",
    "                get(name, COUNTRY_ISO, industry_subgroup, cur_mkt_cap/1M as #cur_mkt_cap, px_last, px_last(dates=-1Y) as #px_last_1y) for ('IBM US Equity') with (currency=USD)\n",
    "            \", pivot=(id,name))\n",
    "    ) as c\n",
    "    -- c always returns one row\n",
    "    ON true ORDER BY px_change_delta desc "
   ]
  },
  {
   "cell_type": "code",
   "execution_count": null,
   "metadata": {},
   "outputs": [],
   "source": [
    "%%iql\n",
    "\n",
    "---- With CTES\n",
    "\n",
    "WITH c AS (select * from bql(\"get(px_last) for('IBM US Equity') with(fill=prev, currency=USD)\")),\n",
    "    idx AS (select * from bql(\"get(px_last) for ('SPX Index') with(fill=prev, currency=USD)\"))\n",
    "    \n",
    "    SELECT c.id c, c.value as c_px, idx.id idx, idx.value as idx_px FROM c, idx"
   ]
  },
  {
   "cell_type": "code",
   "execution_count": null,
   "metadata": {},
   "outputs": [],
   "source": [
    "%%iql\n",
    "\n",
    "--- You can create tables in the in-memory database\n",
    "--- These are deleted. You can also initialize the database with on-disk storage\n",
    "\n",
    "CREATE TABLE temp_table_1 as \n",
    "(SELECT id from bql(\"get(px_volume) for(translatesymbols(members('SPX Index'), targetidtype=FUNDAMENTALTICKER)) with(currency=USD)\", pivot=(id, name)) \n",
    "        ORDER BY px_volume desc limit 10) \n",
    "    ;\n",
    "SELECT id, name, px_last, px_volume/1000000 as px_volume FROM bql('get(name, px_last, px_volume) for(\"$SECURITY\")', paramquery=('$SECURITY', 'select * from temp_table_1 limit 2'), pivot=(id, name))\n"
   ]
  }
 ],
 "metadata": {
  "kernelspec": {
   "display_name": "Python 3",
   "language": "python",
   "name": "python3"
  },
  "language_info": {
   "codemirror_mode": {
    "name": "ipython",
    "version": 3
   },
   "file_extension": ".py",
   "mimetype": "text/x-python",
   "name": "python",
   "nbconvert_exporter": "python",
   "pygments_lexer": "ipython3",
   "version": "3.11.8"
  }
 },
 "nbformat": 4,
 "nbformat_minor": 2
}
