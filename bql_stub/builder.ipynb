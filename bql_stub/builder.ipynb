{
 "cells": [
  {
   "cell_type": "code",
   "execution_count": 1,
   "metadata": {},
   "outputs": [],
   "source": [
    "import bql\n",
    "import pandas as pd\n",
    "import numpy as np"
   ]
  },
  {
   "cell_type": "code",
   "execution_count": 3,
   "metadata": {},
   "outputs": [],
   "source": [
    "# Data for Basics\n",
    "\n",
    "basics_query = \"\"\"\n",
    "    get(\n",
    "      px_last\n",
    "    ) for(\n",
    "      'IBM US Equity'\n",
    "    ) with(\n",
    "      dates=range(-29d, 0d),\n",
    "      fill=prev\n",
    "    )\n",
    "\"\"\"\n",
    "\n",
    "periods = 30\n",
    "\n",
    "dates = pd.date_range(start=pd.Timestamp.now() - pd.DateOffset(years=1), periods=periods).normalize()\n",
    "\n",
    "basics_response = pd.DataFrame({\"ID\": \"IBM US Equity\", \n",
    "                          \"DATE\": dates,\n",
    "                          \"px_last\": np.random.rand(periods)*10})\n",
    "\n",
    "\n",
    "bql._save(basics_query, basics_response)"
   ]
  },
  {
   "cell_type": "code",
   "execution_count": 4,
   "metadata": {},
   "outputs": [
    {
     "data": {
      "text/plain": [
       "0     738635\n",
       "1     738636\n",
       "2     738637\n",
       "3     738638\n",
       "4     738639\n",
       "5     738640\n",
       "6     738641\n",
       "7     738642\n",
       "8     738643\n",
       "9     738644\n",
       "10    738645\n",
       "11    738646\n",
       "12    738647\n",
       "13    738648\n",
       "14    738649\n",
       "15    738650\n",
       "16    738651\n",
       "17    738652\n",
       "18    738653\n",
       "19    738654\n",
       "20    738655\n",
       "21    738656\n",
       "22    738657\n",
       "23    738658\n",
       "24    738659\n",
       "25    738660\n",
       "26    738661\n",
       "27    738662\n",
       "28    738663\n",
       "29    738664\n",
       "Name: DATE, dtype: int64"
      ]
     },
     "execution_count": 4,
     "metadata": {},
     "output_type": "execute_result"
    }
   ],
   "source": [
    "basics_response = bql.combined_df(bql.Service().execute(basics_query))\n",
    "basics_response['DATE'].apply(lambda x: x.toordinal())\n"
   ]
  },
  {
   "cell_type": "code",
   "execution_count": null,
   "metadata": {},
   "outputs": [
    {
     "data": {
      "text/html": [
       "<div>\n",
       "<style scoped>\n",
       "    .dataframe tbody tr th:only-of-type {\n",
       "        vertical-align: middle;\n",
       "    }\n",
       "\n",
       "    .dataframe tbody tr th {\n",
       "        vertical-align: top;\n",
       "    }\n",
       "\n",
       "    .dataframe thead th {\n",
       "        text-align: right;\n",
       "    }\n",
       "</style>\n",
       "<table border=\"1\" class=\"dataframe\">\n",
       "  <thead>\n",
       "    <tr style=\"text-align: right;\">\n",
       "      <th></th>\n",
       "      <th>ID</th>\n",
       "      <th>DATE</th>\n",
       "      <th>px_last</th>\n",
       "    </tr>\n",
       "  </thead>\n",
       "  <tbody>\n",
       "    <tr>\n",
       "      <th>0</th>\n",
       "      <td>IBM US Equity</td>\n",
       "      <td>2023-04-25</td>\n",
       "      <td>1.136183</td>\n",
       "    </tr>\n",
       "    <tr>\n",
       "      <th>1</th>\n",
       "      <td>IBM US Equity</td>\n",
       "      <td>2023-04-26</td>\n",
       "      <td>1.165688</td>\n",
       "    </tr>\n",
       "    <tr>\n",
       "      <th>2</th>\n",
       "      <td>IBM US Equity</td>\n",
       "      <td>2023-04-27</td>\n",
       "      <td>9.355895</td>\n",
       "    </tr>\n",
       "    <tr>\n",
       "      <th>3</th>\n",
       "      <td>IBM US Equity</td>\n",
       "      <td>2023-04-28</td>\n",
       "      <td>6.505655</td>\n",
       "    </tr>\n",
       "    <tr>\n",
       "      <th>4</th>\n",
       "      <td>IBM US Equity</td>\n",
       "      <td>2023-04-29</td>\n",
       "      <td>7.371393</td>\n",
       "    </tr>\n",
       "    <tr>\n",
       "      <th>5</th>\n",
       "      <td>IBM US Equity</td>\n",
       "      <td>2023-04-30</td>\n",
       "      <td>9.454068</td>\n",
       "    </tr>\n",
       "    <tr>\n",
       "      <th>6</th>\n",
       "      <td>IBM US Equity</td>\n",
       "      <td>2023-05-01</td>\n",
       "      <td>3.545464</td>\n",
       "    </tr>\n",
       "    <tr>\n",
       "      <th>7</th>\n",
       "      <td>IBM US Equity</td>\n",
       "      <td>2023-05-02</td>\n",
       "      <td>6.643469</td>\n",
       "    </tr>\n",
       "  </tbody>\n",
       "</table>\n",
       "</div>"
      ],
      "text/plain": [
       "              ID       DATE   px_last\n",
       "0  IBM US Equity 2023-04-25  1.136183\n",
       "1  IBM US Equity 2023-04-26  1.165688\n",
       "2  IBM US Equity 2023-04-27  9.355895\n",
       "3  IBM US Equity 2023-04-28  6.505655\n",
       "4  IBM US Equity 2023-04-29  7.371393\n",
       "5  IBM US Equity 2023-04-30  9.454068\n",
       "6  IBM US Equity 2023-05-01  3.545464\n",
       "7  IBM US Equity 2023-05-02  6.643469"
      ]
     },
     "execution_count": 4,
     "metadata": {},
     "output_type": "execute_result"
    }
   ],
   "source": []
  }
 ],
 "metadata": {
  "kernelspec": {
   "display_name": "iqmo2",
   "language": "python",
   "name": "python3"
  },
  "language_info": {
   "codemirror_mode": {
    "name": "ipython",
    "version": 3
   },
   "file_extension": ".py",
   "mimetype": "text/x-python",
   "name": "python",
   "nbconvert_exporter": "python",
   "pygments_lexer": "ipython3",
   "version": "3.9.6"
  }
 },
 "nbformat": 4,
 "nbformat_minor": 2
}
