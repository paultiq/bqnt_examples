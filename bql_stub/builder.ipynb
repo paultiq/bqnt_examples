{
 "cells": [
  {
   "cell_type": "code",
   "execution_count": null,
   "metadata": {},
   "outputs": [],
   "source": [
    "import bql\n",
    "import pandas as pd\n",
    "import numpy as np"
   ]
  },
  {
   "cell_type": "code",
   "execution_count": null,
   "metadata": {},
   "outputs": [],
   "source": [
    "# Data for Basics\n",
    "\n",
    "basics_query = \"\"\"\n",
    "    get(\n",
    "      px_last\n",
    "    ) for(\n",
    "      'IBM US Equity'\n",
    "    ) with(\n",
    "      dates=range(-29d, 0d),\n",
    "      fill=prev\n",
    "    )\n",
    "\"\"\"\n",
    "\n",
    "periods = 30\n",
    "\n",
    "dates = pd.date_range(start=pd.Timestamp.now() - pd.DateOffset(years=1), periods=periods).normalize()\n",
    "\n",
    "basics_response = pd.DataFrame({\"ID\": \"IBM US Equity\", \n",
    "                          \"DATE\": dates,\n",
    "                          \"px_last\": np.random.rand(periods)*10})\n",
    "\n",
    "\n",
    "bql._save(basics_query, basics_response)"
   ]
  },
  {
   "cell_type": "code",
   "execution_count": null,
   "metadata": {},
   "outputs": [],
   "source": [
    "corr_query = \"\"\"\n",
    "    get(sales_rev_turn)\n",
    "    for(members('SPX Index'))\n",
    "    with(fpo=range(-9Q, 0Q), fpt=Q, fill=prev)\n",
    "    preferences(addcols=all)\n",
    "\"\"\"\n",
    "\n",
    "start_year = 2020\n",
    "num_periods = 10\n",
    "periods = [f\"{start_year + n//4} Q{n%4+1}\" for n in range(num_periods, 0, -1)]\n",
    "period_offset = [f\"{n - num_periods if n != num_periods else 0}Q\" for n in range(num_periods, 0, -1)]\n",
    "companies = [f\"CO{n+1} FAKE Equity\" for n in range(0, 500)]\n",
    "\n",
    "dfs = []\n",
    "for co in companies:\n",
    "    co_df = pd.DataFrame({\"ID\": co, \n",
    "                          \"PERIOD\": periods,\n",
    "                          \"PERIOD_OFFSET\": period_offset,\n",
    "                          \"sales_rev_turn\": np.random.rand(num_periods)*1000})\n",
    "    dfs.append(co_df)\n",
    "\n",
    "corr_response = pd.concat(dfs).reset_index(drop=True)\n",
    "bql._save(basics_query, corr_response)"
   ]
  },
  {
   "cell_type": "code",
   "execution_count": null,
   "metadata": {},
   "outputs": [],
   "source": []
  }
 ],
 "metadata": {
  "kernelspec": {
   "display_name": "iqmo2",
   "language": "python",
   "name": "python3"
  },
  "language_info": {
   "codemirror_mode": {
    "name": "ipython",
    "version": 3
   },
   "file_extension": ".py",
   "mimetype": "text/x-python",
   "name": "python",
   "nbconvert_exporter": "python",
   "pygments_lexer": "ipython3",
   "version": "3.11.8"
  }
 },
 "nbformat": 4,
 "nbformat_minor": 2
}
