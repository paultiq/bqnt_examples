{
 "cells": [
  {
   "cell_type": "markdown",
   "metadata": {},
   "source": [
    "#### Install IQL\n",
    "\n",
    "IQL is a query engine (developed by the Iqmo team) that allows, among other things, BQL queries to be executed within a SQL framework. \n",
    "\n",
    "This allows seamless interplay between a sophisticated SQL database engine and the breadth of BQL data."
   ]
  },
  {
   "cell_type": "code",
   "execution_count": 1,
   "metadata": {},
   "outputs": [],
   "source": [
    "import iql"
   ]
  },
  {
   "cell_type": "code",
   "execution_count": 2,
   "metadata": {},
   "outputs": [],
   "source": [
    "import nbappinator as nbapp\n",
    "import jinja2\n",
    "import logging\n",
    "import pandas as pd\n",
    "import plotly.express as px\n",
    "\n",
    "from functools import cache, partial"
   ]
  },
  {
   "cell_type": "code",
   "execution_count": 3,
   "metadata": {},
   "outputs": [],
   "source": [
    "PAGES = [\"Data\"]\n",
    "logging.basicConfig(encoding=\"utf-8\", level=logging.INFO)\n",
    "logger = logging.getLogger(__name__)"
   ]
  },
  {
   "cell_type": "markdown",
   "metadata": {},
   "source": [
    "#### Setup BQL Queries\n",
    "\n",
    "IQL queries allow bql(...) queries to be embedded within them, and contain a few advanced features like more intelligent pivoting of the results. \n",
    "\n",
    "The \"group\" statements are needed because larger securities will return too many series. "
   ]
  },
  {
   "cell_type": "code",
   "execution_count": 4,
   "metadata": {},
   "outputs": [],
   "source": [
    "options_query = \"\"\"\n",
    "select * from bql(\"\n",
    "        get (\n",
    "            group(ID_SECURITY_DES) as #ID_SECURITY_DES, \n",
    "            group(put_call) as #put_call, \n",
    "            group(open_int) as #open_int, \n",
    "            group(strike_px) as #strike_px, \n",
    "            group(px_last) as #px_last, \n",
    "            group(px_ask) as #px_ask, \n",
    "            group(ivol(mid)) as #ivol_mid, \n",
    "            group(px_mid) as #px_mid,\n",
    "            group(px_bid) as #px_bid, \n",
    "            group(expire_dt) as #expire_dt, \n",
    "            group(px_volume) as #px_volume, \n",
    "            group(delta) as #delta, \n",
    "            group(PCT_MONEYNESS) as #PCT_MONEYNESS, \n",
    "            group(div_yield) as #div_yield, \n",
    "            group(exer_typ) as #exer_typ, \n",
    "            group(expiration_periodicity) as #expiration_periodicity\n",
    "        ) \n",
    "        for (\n",
    "            options('{{security}}')\n",
    "        )\n",
    "        \", pivot=(ORIG_IDS,name))\n",
    "\"\"\"\n",
    "\n",
    "strike_query = \"\"\"\n",
    "select * from bql(\"\n",
    "    get(\n",
    "        px_last\n",
    "    ) \n",
    "    for(\n",
    "        '{{security}}'\n",
    "    )\n",
    "    \", pivot=(ID,name))\n",
    "\"\"\"\n",
    "\n",
    "\n",
    "@cache\n",
    "def _exec_iql(query: str, **kwargs) -> pd.DataFrame:\n",
    "    query_string = jinja2.Template(query).render(**kwargs)\n",
    "    logger.info(f\"Executing {query_string}\")\n",
    "\n",
    "    return iql.execute(query_string)"
   ]
  },
  {
   "cell_type": "markdown",
   "metadata": {},
   "source": [
    "#### OMON Query\n",
    "\n",
    "This is not as complicated as it looks. A lot of the code here is used to flatten the calls and puts so they appear side by side.\n"
   ]
  },
  {
   "cell_type": "code",
   "execution_count": 5,
   "metadata": {},
   "outputs": [],
   "source": [
    "omon_query = \"\"\"WITH \n",
    "    --- split into calls and puts\n",
    "    calls as (SELECT * from options_df where put_call = 'Call'),\n",
    "    puts as (SELECT * from options_df where put_call = 'Put'),\n",
    "    --- full outer join calls and puts - side by side\n",
    "    callputs as (SELECT ifnull(calls.expire_dt, puts.expire_dt) as expire_dt, \n",
    "        ifnull(calls.strike_px, puts.strike_px) as strike_px, \n",
    "        ifnull(calls.expiration_periodicity, puts.expiration_periodicity) expiration_periodicity, \n",
    "        calls.open_int as oint_calls, puts.open_int as oint_puts, calls.ivol_mid as IVM_calls, puts.ivol_mid as IVM_puts, calls.ID_SECURITY_DES as id_calls, puts.ID_SECURITY_DES as id_puts,\n",
    "        calls.px_volume as vol_calls, puts.px_volume as vol_puts, calls.px_mid as mid_calls, puts.px_mid as mid_puts, calls.px_bid as bid_calls, puts.px_bid as bid_puts, calls.px_last as last_calls, puts.px_last as last_puts,\n",
    "        calls.px_ask as ask_calls, puts.px_ask as ask_puts\n",
    "        FROM calls \n",
    "        FULL OUTER JOIN puts \n",
    "            on calls.expire_dt = puts.expire_dt and calls.expiration_periodicity = puts.expiration_periodicity and calls.strike_px = puts.strike_px\n",
    "        ),\n",
    "    --- calculate the strike price distance from current_strikes_df spot price. This is used to take the top 5 closest strike prices.\n",
    "    callputs_with_distance as (SELECT callputs.*, abs(callputs.strike_px - current_strikes_df.px_last) distance FROM callputs JOIN current_strikes_df on true)   \n",
    "\n",
    "    SELECT id_calls, strike_px, bid_calls, ask_calls, last_calls, IVM_calls, vol_calls, oint_calls, id_puts, strike_px, bid_puts, ask_puts, last_puts, IVM_puts, vol_puts, oint_puts\n",
    "    from \n",
    "        --- Filter to the Monthly Top 5 for each expiration\n",
    "        (SELECT *, rank() OVER (PARTITION BY expire_dt ORDER BY distance asc) ranking FROM callputs_with_distance)\n",
    "    WHERE ranking <= 5 and expiration_periodicity = 'Monthly'\n",
    "    ORDER BY expire_dt, strike_px\n",
    "    \"\"\"\n",
    "\n",
    "\n",
    "def get_omon_view(security):\n",
    "    try:\n",
    "        options_df = _exec_iql(options_query, security=security)  # noqa\n",
    "        current_strikes_df = _exec_iql(strike_query, security=security)  # noqa\n",
    "\n",
    "        omon_view = iql.execute(omon_query)\n",
    "    except Exception:\n",
    "        logger.exception(\"Error running query, generating fake data for demo purposes\")\n",
    "        omon_view = pd.DataFrame({\"Dummy Data\": range(100), \"Value\": range(100)})\n",
    "    return omon_view"
   ]
  },
  {
   "cell_type": "code",
   "execution_count": 6,
   "metadata": {},
   "outputs": [],
   "source": [
    "historical_px = \"\"\"get(px_last)\n",
    "for({{idents}})\n",
    "with(dates=range(-1M, 0d), currency='USD', fill=prev)\n",
    "\"\"\"\n",
    "\n",
    "\n",
    "def click_action(info: dict, app: nbapp.UiModel):\n",
    "    with app.messages:\n",
    "        try:\n",
    "            page = app.get_page(PAGES[0])\n",
    "\n",
    "            page.add_textstatic(f\"You clicked {info}\")\n",
    "\n",
    "            ids = []\n",
    "            for row in info[\"currentSelection\"]:\n",
    "                ids.append(row[\"data\"][\"id_calls\"])\n",
    "                ids.append(row[\"data\"][\"id_puts\"])\n",
    "\n",
    "            df = _exec_iql(historical_px, idents=str(ids))\n",
    "            fig = px.line(df, x=\"DATE\", y=\"value\", color=\"id\")\n",
    "\n",
    "            app.clear_container(\"chartbox\")\n",
    "            chartbox = app.get_container(\"chartbox\")\n",
    "            chartbox.add_plotly_fig(name=\"f1\", fig=fig)\n",
    "        except Exception:\n",
    "            logger.exception(\"Error in click_action\")"
   ]
  },
  {
   "cell_type": "code",
   "execution_count": 7,
   "metadata": {},
   "outputs": [],
   "source": [
    "def execute_click(\n",
    "    component: str, action: str, args: str, app: nbapp.UiModel, caller: str\n",
    "):\n",
    "    app.clear_messages()\n",
    "    with app.messages:\n",
    "        try:\n",
    "            app.update_status(caller, message=\"Executing\", running=True)\n",
    "\n",
    "            page = app.get_page(PAGES[0])\n",
    "            page.clear()\n",
    "\n",
    "            security = app.get_valuestr(\"security\")\n",
    "            print(f\"Querying {security}\")\n",
    "\n",
    "            omon_df = get_omon_view(security)\n",
    "\n",
    "            grid_options = {\n",
    "                \"getRowStyle\": \"\"\"\n",
    "                    function(params) {\n",
    "                        if ((params.node.rowIndex + 1) % 5 === 0) {\n",
    "                            return {'borderBottom': '2px solid black'};\n",
    "                        }\n",
    "                    }\n",
    "                \"\"\",\n",
    "            }\n",
    "            click_action_p = partial(click_action, app=app)\n",
    "            page.add_df(\n",
    "                name=\"df1\",\n",
    "                df=omon_df,\n",
    "                action=click_action_p,\n",
    "                grid_options=grid_options,\n",
    "                multiselect=True,\n",
    "            )\n",
    "            app.update_status(\n",
    "                caller, message=\"Executing historical query\", running=True\n",
    "            )\n",
    "\n",
    "            page.add_box(name=\"chartbox\", horiz=False)\n",
    "\n",
    "            app.update_status(caller, message=\"Done\", running=False)\n",
    "        except Exception as e:\n",
    "            logger.exception(\"Error executing\")\n",
    "            app.update_status(caller, message=f\"Error {e}\", running=False)"
   ]
  },
  {
   "cell_type": "code",
   "execution_count": 8,
   "metadata": {},
   "outputs": [
    {
     "data": {
      "text/html": [
       "<script>\n",
       "                    if (window.location.href.indexOf('voila') >= 0){\n",
       "                        const l=document.createElement('link');\n",
       "                        l.setAttribute('rel','stylesheet');  \n",
       "                        l.setAttribute('type','text/css');\n",
       "                        l.setAttribute('href',`${window.location.href.split('/').slice(0,7).join('/')}/static/theme-light.css`);\n",
       "                        document.body.appendChild(l);\n",
       "                        document.body.classList.remove('theme-dark')\n",
       "                        document.body.classList.add('theme-light')\n",
       "                    }\n",
       "                </script>\n",
       "                "
      ],
      "text/plain": [
       "<nbappinator.appinator.ThemeFixer at 0x21c2e632d10>"
      ]
     },
     "metadata": {},
     "output_type": "display_data"
    },
    {
     "data": {
      "application/vnd.jupyter.widget-view+json": {
       "model_id": "b75ad1378e114edaa725d0301ff7f766",
       "version_major": 2,
       "version_minor": 0
      },
      "text/plain": [
       "Html(children=[Html(children=['\\n    .vuetify-styles code, .vuetify-styles kbd, .vuetify-styles samp{\\n       …"
      ]
     },
     "execution_count": 8,
     "metadata": {},
     "output_type": "execute_result"
    }
   ],
   "source": [
    "myapp = nbapp.TabbedUiModel(pages=PAGES, log_footer=\"Messages\", headers=[\"Config\"])\n",
    "\n",
    "config_page = myapp.get_page(\"Config\")\n",
    "config_page.add_textfield(\n",
    "    name=\"security\", label=\"Enter Security: \", value=\"IBM US Equity\"\n",
    ")\n",
    "\n",
    "config_page.add_button(\n",
    "    name=\"update\", label=\"Execute\", action=execute_click, status=True\n",
    ")\n",
    "\n",
    "myapp.display()"
   ]
  }
 ],
 "metadata": {
  "kernelspec": {
   "display_name": "Python 3",
   "language": "python",
   "name": "python3"
  },
  "language_info": {
   "codemirror_mode": {
    "name": "ipython",
    "version": 3
   },
   "file_extension": ".py",
   "mimetype": "text/x-python",
   "name": "python",
   "nbconvert_exporter": "python",
   "pygments_lexer": "ipython3",
   "version": "3.11.8"
  }
 },
 "nbformat": 4,
 "nbformat_minor": 2
}
